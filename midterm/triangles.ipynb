{
 "cells": [
  {
   "cell_type": "markdown",
   "metadata": {},
   "source": [
    "# Triangle Area\n",
    "\n",
    "* https://en.wikipedia.org/wiki/Area_of_a_triangle"
   ]
  },
  {
   "cell_type": "code",
   "execution_count": 1,
   "metadata": {},
   "outputs": [
    {
     "name": "stdout",
     "output_type": "stream",
     "text": [
      "Python version: 3.12.1 (main, Aug 20 2024, 19:28:58) [GCC 9.4.0]\n"
     ]
    }
   ],
   "source": [
    "# print Python version\n",
    "import sys\n",
    "print(f\"Python version: {sys.version}\")"
   ]
  },
  {
   "cell_type": "code",
   "execution_count": 14,
   "metadata": {},
   "outputs": [],
   "source": [
    "# our task is to read points.txt file and create a list of Triangle objects and find the area of each triangle\n",
    "# we will use the following formula to calculate the area of a triangle\n",
    "# one approach would be to use area = 0.5 * (x1(y2-y3) + x2(y3-y1) + x3(y1-y2)) and we take absolute value of the result\n",
    "# also we will use Heron's formula to calculate the area of a triangle\n",
    "# area = sqrt(s * (s - a) * (s - b) * (s - c))\n",
    "# where s = (a + b + c) / 2 - half of the perimeter of the triangle\n",
    "# the results should be identical\n",
    "\n",
    "# first read the points.txt file where each line contains a single coordinate, so x1, y1, x2, y2, x3, y3 and again x1, y1, x2, y2, x3, y3 and so on\n",
    "# we will read the file and create a list of Triangle objects\n",
    "# Triangle class will have three points and a method to calculate the area of the triangle\n",
    "# we will use both methods to calculate the area of the triangle and compare the results\n",
    "\n",
    "import math\n",
    "\n",
    "class Point:\n",
    "    def __init__(self, x, y):\n",
    "        self.x = x\n",
    "        self.y = y\n",
    "\n",
    "# we will have two methods to calculate the area of the triangle\n",
    "# one method will use the formula area = 0.5 * (x1(y2-y3) + x2(y3-y1) + x3(y1-y2))\n",
    "# the other method will use Heron's formula to calculate the area of the triangle\n",
    "\n",
    "class Triangle:\n",
    "    def __init__(self, p1, p2, p3):\n",
    "        self.p1 = p1\n",
    "        self.p2 = p2\n",
    "        self.p3 = p3\n",
    "\n",
    "    def area1(self):\n",
    "        \"\"\"Coordinate formula to calculate the area of a triangle\"\"\"\n",
    "        return 0.5 * abs(self.p1.x * (self.p2.y - self.p3.y) + self.p2.x * (self.p3.y - self.p1.y) + self.p3.x * (self.p1.y - self.p2.y))\n",
    "\n",
    "    def area2(self):\n",
    "        \"\"\"\n",
    "        Heron's formula to calculate the area of a triangle\"\"\"\n",
    "        a = math.sqrt((self.p1.x - self.p2.x) ** 2 + (self.p1.y - self.p2.y) ** 2)\n",
    "        b = math.sqrt((self.p2.x - self.p3.x) ** 2 + (self.p2.y - self.p3.y) ** 2)\n",
    "        c = math.sqrt((self.p3.x - self.p1.x) ** 2 + (self.p3.y - self.p1.y) ** 2)\n",
    "        s = (a + b + c) / 2\n",
    "        return math.sqrt(s * (s - a) * (s - b) * (s - c))\n",
    "\n",
    "    # let's add a boolean method is_equilateral to check if the triangle is equilateral\n",
    "    def is_equilateral(self, epsilon=0.01):\n",
    "        a = math.sqrt((self.p1.x - self.p2.x) ** 2 + (self.p1.y - self.p2.y) ** 2)\n",
    "        b = math.sqrt((self.p2.x - self.p3.x) ** 2 + (self.p2.y - self.p3.y) ** 2)\n",
    "        c = math.sqrt((self.p3.x - self.p1.x) ** 2 + (self.p3.y - self.p1.y) ** 2)\n",
    "        # we will allow for a small difference between the sides of the triangle\n",
    "        return abs(a - b) <= epsilon and abs(b - c) <= epsilon and abs(a - c) <= epsilon\n",
    "    \n",
    "    def __str__(self):\n",
    "        return f\"Triangle: p1({self.p1.x}, {self.p1.y}), p2({self.p2.x}, {self.p2.y}), p3({self.p3.x}, {self.p3.y})\"\n"
   ]
  },
  {
   "cell_type": "code",
   "execution_count": 15,
   "metadata": {},
   "outputs": [
    {
     "name": "stdout",
     "output_type": "stream",
     "text": [
      "Triangle: p1(20, -54), p2(86, 48), p3(-23, -49)\n",
      "Area1: 2358.0\n",
      "Area2: 2358.0000000000023\n",
      "\n",
      "Triangle: p1(85, 94), p2(85, 13), p3(85, -99)\n",
      "Area1: 0.0\n",
      "Area2: 0.0\n",
      "\n",
      "Triangle: p1(36, -38), p2(62, 88), p3(27, -10)\n",
      "Area1: 931.0\n",
      "Area2: 931.0000000000024\n",
      "\n"
     ]
    }
   ],
   "source": [
    "# now let's read the points.txt file and create a list of Triangle objects\n",
    "triangles = []\n",
    "with open(\"points.txt\", \"r\") as file:\n",
    "    lines = file.readlines()\n",
    "    # every 6 points are points for a single triangle x1, y1, x2, y2, x3, y3\n",
    "    for i in range(0, len(lines), 6): # ugly but works\n",
    "        x1 = int(lines[i].strip())\n",
    "        y1 = int(lines[i + 1].strip())\n",
    "        x2 = int(lines[i + 2].strip())\n",
    "        y2 = int(lines[i + 3].strip())\n",
    "        x3 = int(lines[i + 4].strip())\n",
    "        y3 = int(lines[i + 5].strip())\n",
    "        # TODO how could we do the above in a cleaner way?\n",
    "        p1 = Point(x1, y1)\n",
    "        p2 = Point(x2, y2)\n",
    "        p3 = Point(x3, y3)\n",
    "        triangles.append(Triangle(p1, p2, p3))\n",
    "\n",
    "# now we have a list of Triangle objects\n",
    "# print first 2\n",
    "\n",
    "for triangle in triangles[:3]:\n",
    "    print(triangle)\n",
    "    print(f\"Area1: {triangle.area1()}\")\n",
    "    print(f\"Area2: {triangle.area2()}\")\n",
    "    print()\n"
   ]
  },
  {
   "cell_type": "code",
   "execution_count": 9,
   "metadata": {},
   "outputs": [
    {
     "name": "stdout",
     "output_type": "stream",
     "text": [
      "Max area by method 1: 7938.0\n",
      "Triangle: p1(-78, -68), p2(58, -74), p3(52, 43)\n"
     ]
    }
   ],
   "source": [
    "# Let's find maximum area triangle by method 1\n",
    "max_area1 = 0\n",
    "max_triangle1 = None\n",
    "for triangle in triangles:\n",
    "    area = triangle.area1()\n",
    "    if area > max_area1:\n",
    "        max_area1 = area\n",
    "        max_triangle1 = triangle\n",
    "\n",
    "print(f\"Max area by method 1: {max_area1}\")\n",
    "# coordinates of the triangle\n",
    "print(max_triangle1)"
   ]
  },
  {
   "cell_type": "code",
   "execution_count": null,
   "metadata": {},
   "outputs": [],
   "source": []
  },
  {
   "cell_type": "code",
   "execution_count": 10,
   "metadata": {},
   "outputs": [
    {
     "name": "stdout",
     "output_type": "stream",
     "text": [
      "Max area by method 2: 7938.0\n",
      "Triangle: p1(-78, -68), p2(58, -74), p3(52, 43)\n"
     ]
    }
   ],
   "source": [
    "# let's find maximum area triangle by method 2\n",
    "max_area2 = 0\n",
    "max_triangle2 = None\n",
    "for triangle in triangles:\n",
    "    area = triangle.area2()\n",
    "    if area > max_area2:\n",
    "        max_area2 = area\n",
    "        max_triangle2 = triangle\n",
    "\n",
    "print(f\"Max area by method 2: {max_area2}\")\n",
    "# coordinates of the triangle\n",
    "print(max_triangle2)"
   ]
  },
  {
   "cell_type": "code",
   "execution_count": 16,
   "metadata": {},
   "outputs": [
    {
     "name": "stdout",
     "output_type": "stream",
     "text": [
      "Number of equilateral triangles: 0\n"
     ]
    }
   ],
   "source": [
    "# let's find all equilateral triangles\n",
    "equilateral_triangles = []\n",
    "for triangle in triangles:\n",
    "    if triangle.is_equilateral():\n",
    "        equilateral_triangles.append(triangle)\n",
    "print(f\"Number of equilateral triangles: {len(equilateral_triangles)}\")"
   ]
  },
  {
   "cell_type": "code",
   "execution_count": 18,
   "metadata": {},
   "outputs": [
    {
     "name": "stdout",
     "output_type": "stream",
     "text": [
      "Number of triangles: 33\n",
      "Triangle: p1(-5.9819, 45.6529), p2(-39.2497, 77.4597), p3(-17.9823, 43.3229)\n",
      "Area1: 229.60414836\n",
      "Area2: 229.60414835999998\n",
      "\n",
      "Triangle: p1(-46.9558, -50.9667), p2(62.5163, -0.3397), p3(-16.8256, 45.5518)\n",
      "Area1: 4520.340624225\n",
      "Area2: 4520.3406242249985\n",
      "\n"
     ]
    }
   ],
   "source": [
    "# now let's read lines.csv and create a list of Triangle objects\n",
    "# each line represents a line segment with two points x1, y1, x2, y2\n",
    "# 2nd line is x2, y2, x3, y3 and so on\n",
    "# 3rd line x3, y3, x1, y1\n",
    "# and we start over on the 4th line\n",
    "\n",
    "# so we will create the 3 points and create the Triangle object\n",
    "\n",
    "csv_file = \"lines.csv\"\n",
    "triangles = []\n",
    "lines = []\n",
    "with open(csv_file, \"r\") as file:\n",
    "    lines = file.readlines()\n",
    "    # check every 3 lines\n",
    "    for i in range(0, len(lines), 3):\n",
    "        x1, y1, x2, y2 = map(float, lines[i].strip().split(\",\"))\n",
    "        x2, y2, x3, y3 = map(float, lines[i + 1].strip().split(\",\"))\n",
    "        # x3, y3, x1, y1 = map(int, lines[i + 2].strip().split(\",\"))\n",
    "        p1 = Point(x1, y1)\n",
    "        p2 = Point(x2, y2)\n",
    "        p3 = Point(x3, y3)\n",
    "        triangles.append(Triangle(p1, p2, p3))\n",
    "\n",
    "# now we have a list of Triangle objects\n",
    "# how many triangles do we have?\n",
    "print(f\"Number of triangles: {len(triangles)}\")\n",
    "# print first two\n",
    "for triangle in triangles[:2]:\n",
    "    print(triangle)\n",
    "    print(f\"Area1: {triangle.area1()}\")\n",
    "    print(f\"Area2: {triangle.area2()}\")\n",
    "    print()"
   ]
  },
  {
   "cell_type": "code",
   "execution_count": 19,
   "metadata": {},
   "outputs": [
    {
     "name": "stdout",
     "output_type": "stream",
     "text": [
      "Max area by method 1: 9483.555508185002\n",
      "Triangle: p1(-15.7902, -77.5931), p2(70.2683, 21.3398), p3(-53.8795, 99.0173)\n"
     ]
    }
   ],
   "source": [
    "# let's find the largest area triangle by method 1\n",
    "max_area1 = 0\n",
    "max_triangle1 = None\n",
    "for triangle in triangles:\n",
    "    area = triangle.area1()\n",
    "    if area > max_area1:\n",
    "        max_area1 = area\n",
    "        max_triangle1 = triangle\n",
    "\n",
    "print(f\"Max area by method 1: {max_area1}\")\n",
    "# coordinates of the triangle\n",
    "print(max_triangle1)"
   ]
  },
  {
   "cell_type": "code",
   "execution_count": 20,
   "metadata": {},
   "outputs": [
    {
     "name": "stdout",
     "output_type": "stream",
     "text": [
      "Max area by method 2: 9483.555508185002\n",
      "Triangle: p1(-15.7902, -77.5931), p2(70.2683, 21.3398), p3(-53.8795, 99.0173)\n"
     ]
    }
   ],
   "source": [
    "# let's check other method\n",
    "max_area2 = 0\n",
    "max_triangle2 = None\n",
    "for triangle in triangles:\n",
    "    area = triangle.area2()\n",
    "    if area > max_area2:\n",
    "        max_area2 = area\n",
    "        max_triangle2 = triangle\n",
    "\n",
    "print(f\"Max area by method 2: {max_area2}\")\n",
    "# coordinates of the triangle\n",
    "print(max_triangle2)\n"
   ]
  },
  {
   "cell_type": "code",
   "execution_count": 22,
   "metadata": {},
   "outputs": [
    {
     "name": "stdout",
     "output_type": "stream",
     "text": [
      "Number of equilateral triangles: 1\n",
      "Triangle: p1(0.0, 0.0), p2(5.0, 0.0), p3(2.5, 4.3301)\n",
      "Area1: 10.82525\n",
      "Area2: 10.825250000000008\n",
      "\n"
     ]
    }
   ],
   "source": [
    "# now let's find all equilateral triangles\n",
    "equilateral_triangles = []\n",
    "for triangle in triangles:\n",
    "    if triangle.is_equilateral():\n",
    "        equilateral_triangles.append(triangle)\n",
    "print(f\"Number of equilateral triangles: {len(equilateral_triangles)}\")\n",
    "# print first two\n",
    "for triangle in equilateral_triangles[:2]:\n",
    "    print(triangle)\n",
    "    print(f\"Area1: {triangle.area1()}\")\n",
    "    print(f\"Area2: {triangle.area2()}\")\n",
    "    print()"
   ]
  },
  {
   "cell_type": "code",
   "execution_count": 28,
   "metadata": {},
   "outputs": [
    {
     "name": "stdout",
     "output_type": "stream",
     "text": [
      "Number of lines: 99\n",
      "Number of lines with 4 values: 93\n",
      "Number of triangles: 31\n",
      "Triangle: p1(-5.9819, 45.6529), p2(-39.2497, 77.4597), p3(-17.9823, 43.3229)\n",
      "Area1: 229.60414836\n",
      "Area2: 229.60414835999998\n",
      "\n",
      "Triangle: p1(-46.9558, -50.9667), p2(62.5163, -0.3397), p3(-16.8256, 45.5518)\n",
      "Area1: 4520.340624225\n",
      "Area2: 4520.3406242249985\n",
      "\n"
     ]
    }
   ],
   "source": [
    "# now let's do the same for dirty_lines.csv\n",
    "# only exception is that we want to skip lines which do not have 4 values\n",
    "\n",
    "csv_file = \"dirty_lines.csv\"\n",
    "triangles = []\n",
    "lines = []\n",
    "with open(csv_file, \"r\") as file:\n",
    "    lines = file.readlines()\n",
    "    # how many lines do we have?\n",
    "    print(f\"Number of lines: {len(lines)}\")\n",
    "    # filter only those that have 4 values and those 4 valuese should be castable to float\n",
    "    # we want all three lines to have 4 values that convert to float\n",
    "    # otherwise we skip those 3 lines\n",
    "    new_lines = []\n",
    "    for line1,line2,line3 in zip(lines[::3], lines[1::3], lines[2::3]):\n",
    "       \n",
    "        values1 = line1.strip().split(\",\")\n",
    "        values2 = line2.strip().split(\",\")\n",
    "        values3 = line3.strip().split(\",\")\n",
    "        # check if we have 4 values\n",
    "        if len(values1) == 4 and len(values2) == 4 and len(values3) == 4:\n",
    "            try:\n",
    "                # we try for all three lilnes\n",
    "                x1, y1, x2, y2 = map(float, values1)\n",
    "                x2, y2, x3, y3 = map(float, values2)\n",
    "                x3, y3, x1, y1 = map(float, values3)\n",
    "                # here we know that all three lines have 4 values that can be cast to float\n",
    "                new_lines.append(line1)\n",
    "                new_lines.append(line2)\n",
    "                new_lines.append(line3)\n",
    "            except ValueError:\n",
    "                pass\n",
    "    lines = new_lines\n",
    "    \n",
    "    print(f\"Number of lines with 4 values: {len(lines)}\")\n",
    "    # check every 3 lines\n",
    "    for i in range(0, len(lines), 3):\n",
    "        x1, y1, x2, y2 = map(float, lines[i].strip().split(\",\"))\n",
    "        x2, y2, x3, y3 = map(float, lines[i + 1].strip().split(\",\"))\n",
    "        # x3, y3, x1, y1 = map(int, lines[i + 2].strip().split(\",\"))\n",
    "        p1 = Point(x1, y1)\n",
    "        p2 = Point(x2, y2)\n",
    "        p3 = Point(x3, y3)\n",
    "        triangles.append(Triangle(p1, p2, p3))\n",
    "\n",
    "# now we have a list of Triangle objects\n",
    "# how many triangles do we have?\n",
    "print(f\"Number of triangles: {len(triangles)}\")\n",
    "# print first two\n",
    "for triangle in triangles[:2]:\n",
    "    print(triangle)\n",
    "    print(f\"Area1: {triangle.area1()}\")\n",
    "    print(f\"Area2: {triangle.area2()}\")\n",
    "    print()"
   ]
  },
  {
   "cell_type": "code",
   "execution_count": 29,
   "metadata": {},
   "outputs": [
    {
     "name": "stdout",
     "output_type": "stream",
     "text": [
      "Max area by method 1: 9483.555508185002\n",
      "Triangle: p1(-15.7902, -77.5931), p2(70.2683, 21.3398), p3(-53.8795, 99.0173)\n"
     ]
    }
   ],
   "source": [
    "# let's find the largest area triangle by method 1\n",
    "max_area1 = 0\n",
    "max_triangle1 = None\n",
    "for triangle in triangles:\n",
    "    area = triangle.area1()\n",
    "    if area > max_area1:\n",
    "        max_area1 = area\n",
    "        max_triangle1 = triangle\n",
    "\n",
    "print(f\"Max area by method 1: {max_area1}\")\n",
    "# coordinates of the triangle\n",
    "print(max_triangle1)\n"
   ]
  },
  {
   "cell_type": "code",
   "execution_count": 30,
   "metadata": {},
   "outputs": [
    {
     "name": "stdout",
     "output_type": "stream",
     "text": [
      "Max area by method 2: 9483.555508185002\n",
      "Triangle: p1(-15.7902, -77.5931), p2(70.2683, 21.3398), p3(-53.8795, 99.0173)\n"
     ]
    }
   ],
   "source": [
    "# let's try the other method\n",
    "max_area2 = 0\n",
    "max_triangle2 = None\n",
    "for triangle in triangles:\n",
    "    area = triangle.area2()\n",
    "    if area > max_area2:\n",
    "        max_area2 = area\n",
    "        max_triangle2 = triangle\n",
    "\n",
    "print(f\"Max area by method 2: {max_area2}\")\n",
    "# coordinates of the triangle\n",
    "print(max_triangle2)"
   ]
  },
  {
   "cell_type": "code",
   "execution_count": 31,
   "metadata": {},
   "outputs": [
    {
     "name": "stdout",
     "output_type": "stream",
     "text": [
      "Number of equilateral triangles: 1\n",
      "Triangle: p1(0.0, 0.0), p2(15.0, 0.0), p3(7.5, 12.9904)\n",
      "Area1: 97.428\n",
      "Area2: 97.42799999999994\n",
      "\n"
     ]
    }
   ],
   "source": [
    "# how about equilateral triangles?\n",
    "\n",
    "equilateral_triangles = []\n",
    "for triangle in triangles:\n",
    "    if triangle.is_equilateral():\n",
    "        equilateral_triangles.append(triangle)\n",
    "\n",
    "print(f\"Number of equilateral triangles: {len(equilateral_triangles)}\")\n",
    "# print first two\n",
    "for triangle in equilateral_triangles[:2]:\n",
    "    print(triangle)\n",
    "    print(f\"Area1: {triangle.area1()}\")\n",
    "    print(f\"Area2: {triangle.area2()}\")\n",
    "    print()\n"
   ]
  }
 ],
 "metadata": {
  "kernelspec": {
   "display_name": ".venv",
   "language": "python",
   "name": "python3"
  },
  "language_info": {
   "codemirror_mode": {
    "name": "ipython",
    "version": 3
   },
   "file_extension": ".py",
   "mimetype": "text/x-python",
   "name": "python",
   "nbconvert_exporter": "python",
   "pygments_lexer": "ipython3",
   "version": "3.12.1"
  }
 },
 "nbformat": 4,
 "nbformat_minor": 2
}
